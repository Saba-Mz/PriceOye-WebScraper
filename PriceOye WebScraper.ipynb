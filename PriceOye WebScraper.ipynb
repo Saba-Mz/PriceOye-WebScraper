{
 "cells": [
  {
   "cell_type": "code",
   "execution_count": 1,
   "id": "f236cbb9",
   "metadata": {},
   "outputs": [],
   "source": [
    "# import libraries \n",
    "from selenium import webdriver\n",
    "from bs4 import BeautifulSoup\n",
    "import requests\n",
    "import time\n",
    "import datetime\n",
    "import smtplib\n",
    "import re\n",
    "\n"
   ]
  },
  {
   "cell_type": "code",
   "execution_count": 33,
   "id": "45fa7b4b-ed05-420b-b735-bd9dd440ec69",
   "metadata": {},
   "outputs": [],
   "source": [
    "import smtplib\n",
    "\n",
    "def send_mail():\n",
    "    # Connect to Gmail's SMTP server using SSL\n",
    "    server = smtplib.SMTP_SSL('smtp.gmail.com', 465)\n",
    "    server.ehlo()  # Optional, for identifying the client to the server\n",
    "\n",
    "    # Log in to your Gmail account using your email and app password\n",
    "    server.login('saba.mumtaz@gmail.com', 'eat(kishmish)')  # Replace with the correct app password\n",
    "\n",
    "    # Email details\n",
    "    subject = \"The Shirt you want is below Rs 300000! Get it now!!\"\n",
    "    body = \"\"\"Saba, \n",
    "    This is the moment you've been waiting for. Don't mess it up! Check PriceOye Now!\n",
    "    \"\"\"\n",
    "    # Creating the message\n",
    "    msg = f\"Subject: {subject}\\n\\n{body}\"\n",
    "    \n",
    "    # Sending the email (make sure to replace the recipient email)\n",
    "    server.sendmail(\n",
    "        'saba.mumtaz@gmail.com',   # Sender's email\n",
    "        'saba.mumtaz@gmail.com',  # Recipient's email \n",
    "        msg\n",
    "    )\n",
    "\n",
    "    # Close the server connection\n",
    "    server.quit()\n",
    "\n"
   ]
  },
  {
   "cell_type": "code",
   "execution_count": 29,
   "id": "8e95b9e0",
   "metadata": {},
   "outputs": [],
   "source": [
    "\n",
    "def check_price():\n",
    "    #Set up Selenium WebDriver\n",
    "    driver = webdriver.Chrome()  # Make sure to have the ChromeDriver installed\n",
    "    URL = 'https://priceoye.pk/mobiles/samsung/samsung-galaxy-s24'\n",
    "    driver.get(URL)\n",
    "    \n",
    "    # Wait for page to fully load\n",
    "    time.sleep(3)  # Adjust the delay as needed based on page load speed\n",
    "    \n",
    "    # Parse page source with BeautifulSoup\n",
    "    soup = BeautifulSoup(driver.page_source, \"html.parser\")\n",
    "    driver.quit()\n",
    "    \n",
    "    # Extract title and price\n",
    "    title = soup.find('div', class_='product-title').find('h3').get_text(strip=True)\n",
    "    if title:\n",
    "        print(\"Title:\", title)\n",
    "    else:\n",
    "        print(\"Product title not found.\")\n",
    "\n",
    "    available = soup.find('span', class_='summary-price text-black bold stock-status').get_text(strip=True)\n",
    "\n",
    "    price_element = soup.find(\"span\", class_=\"summary-price text-black price-size-lg bold\")\n",
    "    if price_element:\n",
    "        price_text = price_element.get_text(strip=True)\n",
    "        print(\"Price:\", price_text)\n",
    "    else:\n",
    "        print(\"Price element not found.\")\n",
    "    price_clean = re.sub(r'[^\\d.]', '', price_element.text)  # Remove non-numeric characters (except decimal)\n",
    "    price = float(price_clean)\n",
    "    \n",
    "    import datetime\n",
    "    today = datetime.date.today()\n",
    "    \n",
    "    import csv \n",
    "    header = ['Title', 'Price', 'Date', 'Availability']\n",
    "    data = [title, price_text, today, available]\n",
    "\n",
    "    with open('PriceOyeScraperDataset.csv', 'a+', newline='', encoding='UTF8') as f:\n",
    "        writer = csv.writer(f)\n",
    "        writer.writerow(data)\n",
    "\n",
    "    if(price<300000):\n",
    "       send_mail() # send me an email once price drops before this number\n",
    "    \n",
    " \n",
    "    "
   ]
  },
  {
   "cell_type": "code",
   "execution_count": 2,
   "id": "c72f2c4e",
   "metadata": {},
   "outputs": [],
   "source": [
    "# Runs check_price after a set time and inputs data into your CSV\n",
    "while(True):\n",
    "    check_price()\n",
    "    time.sleep(86400)  # checks after 1 day\n"
   ]
  },
  {
   "cell_type": "code",
   "execution_count": 8,
   "id": "00af7126",
   "metadata": {},
   "outputs": [
    {
     "name": "stdout",
     "output_type": "stream",
     "text": [
      "  Funny Got Data MIS Data Systems Business Analyst T-Shirt  12.97  2024-11-12\n",
      "0  Funny Got Data MIS Data Systems Business Analy...        12.97  2024-11-12\n"
     ]
    }
   ],
   "source": [
    "import pandas as pd\n",
    "\n",
    "df = pd.read_csv(r'D:\\PROJECTS\\Web Scraper\\PriceOyeWebScraperDataset.csv')\n",
    "\n",
    "print(df)"
   ]
  }
 ],
 "metadata": {
  "kernelspec": {
   "display_name": "Python (WebScrap)",
   "language": "python",
   "name": "my_newenv"
  },
  "language_info": {
   "codemirror_mode": {
    "name": "ipython",
    "version": 3
   },
   "file_extension": ".py",
   "mimetype": "text/x-python",
   "name": "python",
   "nbconvert_exporter": "python",
   "pygments_lexer": "ipython3",
   "version": "3.12.6"
  }
 },
 "nbformat": 4,
 "nbformat_minor": 5
}
